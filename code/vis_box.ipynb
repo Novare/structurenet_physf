{
 "cells": [
  {
   "cell_type": "markdown",
   "metadata": {
    "readonly": true,
    "slideshow": {
     "slide_type": "-"
    }
   },
   "source": [
    "## Visualize Ground-Truth Shape Hierarchy of Graphs and Edge Relationships"
   ]
  },
  {
   "cell_type": "code",
   "execution_count": 1,
   "metadata": {},
   "outputs": [
    {
     "name": "stdout",
     "output_type": "stream",
     "text": [
      "PartNet Hierarchy: (the number in bracket corresponds to PartNet part_id)\n",
      "0 chair    {0}\n",
      "  ├0 chair_back    {1}\n",
      "  |  ├0 back_surface    {2}\n",
      "  |  |  ├0 back_surface_vertical_bar [LEAF] {3}\n",
      "  |  |  ├1 back_surface_vertical_bar [LEAF] {4}\n",
      "  |  |  ├2 back_surface_vertical_bar [LEAF] {5}\n",
      "  |  |  ├3 back_surface_vertical_bar [LEAF] {6}\n",
      "  |  |  ├4 back_surface_horizontal_bar [LEAF] {7}\n",
      "  |  |  ├5 back_surface_vertical_bar [LEAF] {8}\n",
      "  ├1 chair_seat    {9}\n",
      "  |  ├0 seat_surface    {10}\n",
      "  |  |  ├0 seat_single_surface [LEAF] {11}\n",
      "  ├2 chair_base    {12}\n",
      "  |  ├0 regular_leg_base    {13}\n",
      "  |  |  ├0 leg [LEAF] {14}\n",
      "  |  |  ├1 leg [LEAF] {15}\n",
      "  |  |  ├2 leg [LEAF] {16}\n",
      "  |  |  ├3 leg [LEAF] {17}\n",
      "\n"
     ]
    },
    {
     "name": "stderr",
     "output_type": "stream",
     "text": [
      "/home/novare/Projekte/structurenet/code/vis_utils.py:203: UserWarning: Matplotlib is currently using agg, which is a non-GUI backend, so cannot show the figure.\n",
      "  plt.show()\n"
     ]
    }
   ],
   "source": [
    "%matplotlib inline\n",
    "\n",
    "import os\n",
    "import matplotlib\n",
    "from data import PartNetDataset\n",
    "from vis_utils import draw_partnet_objects\n",
    "\n",
    "matplotlib.pyplot.ion()\n",
    "\n",
    "# ground-truth data directory\n",
    "root_dir = '../data/partnetdata/chair_hier'\n",
    "\n",
    "# read all data\n",
    "obj_list = sorted([int(item.split('.')[0]) for item in os.listdir(root_dir) if item.endswith('.json')])\n",
    "\n",
    "# visualize one data\n",
    "obj_id = 0\n",
    "obj = PartNetDataset.load_object(os.path.join(root_dir, str(obj_list[obj_id])+'.json'))\n",
    "\n",
    "# edge visu: ADJ (red), ROT_SYM (yellow), TRANS_SYM (purple), REF_SYM (black)\n",
    "draw_partnet_objects(objects=[obj], object_names=[str(obj_list[obj_id])], \n",
    "                     figsize=(9, 5), leafs_only=True, visu_edges=True,\n",
    "                     sem_colors_filename='../stats/semantics_colors/Chair.txt')\n",
    "\n",
    "print('PartNet Hierarchy: (the number in bracket corresponds to PartNet part_id)')\n",
    "print(obj)"
   ]
  },
  {
   "cell_type": "markdown",
   "metadata": {},
   "source": [
    "## Box-shape AE Reconstruction"
   ]
  },
  {
   "cell_type": "code",
   "execution_count": 6,
   "metadata": {},
   "outputs": [
    {
     "ename": "FileNotFoundError",
     "evalue": "[Errno 2] No such file or directory: '../data/results/box_ae_chair'",
     "output_type": "error",
     "traceback": [
      "\u001b[0;31m---------------------------------------------------------------------------\u001b[0m",
      "\u001b[0;31mFileNotFoundError\u001b[0m                         Traceback (most recent call last)",
      "\u001b[0;32m<ipython-input-6-3fa62b26ad5a>\u001b[0m in \u001b[0;36m<module>\u001b[0;34m\u001b[0m\n\u001b[1;32m     12\u001b[0m \u001b[0;34m\u001b[0m\u001b[0m\n\u001b[1;32m     13\u001b[0m \u001b[0;31m# read all data\u001b[0m\u001b[0;34m\u001b[0m\u001b[0;34m\u001b[0m\u001b[0m\n\u001b[0;32m---> 14\u001b[0;31m \u001b[0mobj_list\u001b[0m \u001b[0;34m=\u001b[0m \u001b[0msorted\u001b[0m\u001b[0;34m(\u001b[0m\u001b[0;34m[\u001b[0m\u001b[0mint\u001b[0m\u001b[0;34m(\u001b[0m\u001b[0mitem\u001b[0m\u001b[0;34m)\u001b[0m \u001b[0;32mfor\u001b[0m \u001b[0mitem\u001b[0m \u001b[0;32min\u001b[0m \u001b[0mos\u001b[0m\u001b[0;34m.\u001b[0m\u001b[0mlistdir\u001b[0m\u001b[0;34m(\u001b[0m\u001b[0mroot_dir\u001b[0m\u001b[0;34m)\u001b[0m \u001b[0;32mif\u001b[0m \u001b[0mos\u001b[0m\u001b[0;34m.\u001b[0m\u001b[0mpath\u001b[0m\u001b[0;34m.\u001b[0m\u001b[0misdir\u001b[0m\u001b[0;34m(\u001b[0m\u001b[0mos\u001b[0m\u001b[0;34m.\u001b[0m\u001b[0mpath\u001b[0m\u001b[0;34m.\u001b[0m\u001b[0mjoin\u001b[0m\u001b[0;34m(\u001b[0m\u001b[0mroot_dir\u001b[0m\u001b[0;34m,\u001b[0m \u001b[0mitem\u001b[0m\u001b[0;34m)\u001b[0m\u001b[0;34m)\u001b[0m\u001b[0;34m]\u001b[0m\u001b[0;34m)\u001b[0m\u001b[0;34m\u001b[0m\u001b[0m\n\u001b[0m\u001b[1;32m     15\u001b[0m \u001b[0;34m\u001b[0m\u001b[0m\n\u001b[1;32m     16\u001b[0m \u001b[0;31m# visualize one data\u001b[0m\u001b[0;34m\u001b[0m\u001b[0;34m\u001b[0m\u001b[0m\n",
      "\u001b[0;31mFileNotFoundError\u001b[0m: [Errno 2] No such file or directory: '../data/results/box_ae_chair'"
     ]
    }
   ],
   "source": [
    "%matplotlib inline\n",
    "\n",
    "import os\n",
    "import matplotlib\n",
    "from data import PartNetDataset\n",
    "from vis_utils import draw_partnet_objects\n",
    "\n",
    "matplotlib.pyplot.ion()\n",
    "\n",
    "# results directory\n",
    "root_dir = '../data/results/box_ae_chair'\n",
    "\n",
    "# read all data\n",
    "obj_list = sorted([int(item) for item in os.listdir(root_dir) if os.path.isdir(os.path.join(root_dir, item))])\n",
    "\n",
    "# visualize one data\n",
    "obj_id = 2\n",
    "obj_dir = os.path.join(root_dir, str(obj_list[obj_id]))\n",
    "print(obj_dir)\n",
    "\n",
    "orig_obj = PartNetDataset.load_object(os.path.join(obj_dir, 'orig.json'))\n",
    "recon_obj = PartNetDataset.load_object(os.path.join(obj_dir, 'recon.json'))\n",
    "    \n",
    "stat_filename = os.path.join(obj_dir, 'stats.txt')\n",
    "with open(stat_filename, 'r') as stat_file:\n",
    "    stats = stat_file.readlines()\n",
    "stats = [x.strip() for x in stats]\n",
    "stats = list(filter(None, stats))\n",
    "for stat in stats:\n",
    "    print(stat)\n",
    "\n",
    "draw_partnet_objects(objects=[orig_obj, recon_obj], object_names=['original', 'reconstruction'], \n",
    "                     figsize=(9, 5), leafs_only=True, visu_edges=True,\n",
    "                     sem_colors_filename='../stats/semantics_colors/Chair.txt')\n",
    "\n",
    "print('Original Structure:')\n",
    "print(orig_obj)\n",
    "print('Reconstructed Structure:')\n",
    "print(recon_obj)"
   ]
  },
  {
   "cell_type": "markdown",
   "metadata": {},
   "source": [
    "## Box-shape VAE Free Generation"
   ]
  },
  {
   "cell_type": "code",
   "execution_count": 2,
   "metadata": {},
   "outputs": [
    {
     "ename": "FileNotFoundError",
     "evalue": "[Errno 2] No such file or directory: '../data/results/box_vae_chair'",
     "output_type": "error",
     "traceback": [
      "\u001b[0;31m---------------------------------------------------------------------------\u001b[0m",
      "\u001b[0;31mFileNotFoundError\u001b[0m                         Traceback (most recent call last)",
      "\u001b[0;32m<ipython-input-2-f8832e74962d>\u001b[0m in \u001b[0;36m<module>\u001b[0;34m\u001b[0m\n\u001b[1;32m     12\u001b[0m \u001b[0;34m\u001b[0m\u001b[0m\n\u001b[1;32m     13\u001b[0m \u001b[0;31m# read all data\u001b[0m\u001b[0;34m\u001b[0m\u001b[0;34m\u001b[0m\u001b[0m\n\u001b[0;32m---> 14\u001b[0;31m \u001b[0mobj_list\u001b[0m \u001b[0;34m=\u001b[0m \u001b[0msorted\u001b[0m\u001b[0;34m(\u001b[0m\u001b[0;34m[\u001b[0m\u001b[0mitem\u001b[0m \u001b[0;32mfor\u001b[0m \u001b[0mitem\u001b[0m \u001b[0;32min\u001b[0m \u001b[0mos\u001b[0m\u001b[0;34m.\u001b[0m\u001b[0mlistdir\u001b[0m\u001b[0;34m(\u001b[0m\u001b[0mroot_dir\u001b[0m\u001b[0;34m)\u001b[0m \u001b[0;32mif\u001b[0m \u001b[0mitem\u001b[0m\u001b[0;34m.\u001b[0m\u001b[0mendswith\u001b[0m\u001b[0;34m(\u001b[0m\u001b[0;34m'.json'\u001b[0m\u001b[0;34m)\u001b[0m\u001b[0;34m]\u001b[0m\u001b[0;34m)\u001b[0m\u001b[0;34m\u001b[0m\u001b[0m\n\u001b[0m\u001b[1;32m     15\u001b[0m \u001b[0;34m\u001b[0m\u001b[0m\n\u001b[1;32m     16\u001b[0m \u001b[0;31m# visualize one data\u001b[0m\u001b[0;34m\u001b[0m\u001b[0;34m\u001b[0m\u001b[0m\n",
      "\u001b[0;31mFileNotFoundError\u001b[0m: [Errno 2] No such file or directory: '../data/results/box_vae_chair'"
     ]
    }
   ],
   "source": [
    "%matplotlib inline\n",
    "\n",
    "import os\n",
    "import matplotlib\n",
    "from data import PartNetDataset\n",
    "from vis_utils import draw_partnet_objects\n",
    "\n",
    "matplotlib.pyplot.ion()\n",
    "\n",
    "# results directory\n",
    "root_dir = '../data/results/box_vae_chair'\n",
    "\n",
    "# read all data\n",
    "obj_list = sorted([item for item in os.listdir(root_dir) if item.endswith('.json')])\n",
    "\n",
    "# visualize one data\n",
    "obj_id = 0\n",
    "obj = PartNetDataset.load_object(os.path.join(root_dir, obj_list[obj_id]))\n",
    "\n",
    "draw_partnet_objects(objects=[obj], object_names=[obj_list[obj_id]], \n",
    "                     figsize=(9, 5), leafs_only=True, visu_edges=True, \n",
    "                     sem_colors_filename='../stats/semantics_colors/Chair.txt')\n",
    "\n",
    "print('Tree Structure:')\n",
    "print(obj)"
   ]
  },
  {
   "cell_type": "markdown",
   "metadata": {},
   "source": [
    "# Measure of Infeasibility Calculations"
   ]
  },
  {
   "cell_type": "code",
   "execution_count": 3,
   "metadata": {},
   "outputs": [
    {
     "name": "stdout",
     "output_type": "stream",
     "text": [
      "16:27:43 - DEBUG    - Loaded backend module://ipykernel.pylab.backend_inline version unknown.\n",
      "16:27:43 - INFO     - CUTTING OUT INTERSECTIONS, COLLECTING CONTACT SURFACES\n",
      "16:27:44 - INFO     - OPTIMIZING\n"
     ]
    },
    {
     "name": "stderr",
     "output_type": "stream",
     "text": [
      "/home/novare/.pyenv/versions/3.6.5/lib/python3.6/site-packages/scipy/optimize/_trustregion_constr/projections.py:104: UserWarning: Singular Jacobian matrix. Using dense SVD decomposition to perform the factorizations.\n",
      "  warn(\"Singular Jacobian matrix. Using dense SVD decomposition to \"\n"
     ]
    },
    {
     "name": "stdout",
     "output_type": "stream",
     "text": [
      "The maximum number of function evaluations is exceeded.\n",
      "Number of iterations: 5001, function evaluations: 1925385, CG iterations: 5591, optimality: 8.07e-02, constraint violation: 1.22e+00, execution time: 4.2e+02 s.\n",
      "16:34:42 - INFO     - Optimization took 6.9749953587849935 minutes.\n",
      "Measure of Infeasibility: 4.504541885763253\n"
     ]
    }
   ],
   "source": [
    "%matplotlib inline\n",
    "from compute_moi import *\n",
    "from compute_moi_util import *\n",
    "\n",
    "options = {\n",
    "    \"output_level\": 1,\n",
    "    \"max_iterations\": 5000,\n",
    "    \"dump_models\": False,\n",
    "    \"surface_area_tolerance\": 0.003,\n",
    "    \"print_surface_area_histogramm\": True\n",
    "}\n",
    "\n",
    "moi, hover_penalty, oobbs, cut_meshes, cut_volumes, contact_surfaces = moi_from_graph(obj, options)\n",
    "print(\"Measure of Infeasibility: {}, includes a hover penalty of {}\".format(str(moi), str(hover_penalty)))"
   ]
  },
  {
   "cell_type": "markdown",
   "metadata": {},
   "source": [
    "## Draw OOBBs"
   ]
  },
  {
   "cell_type": "code",
   "execution_count": null,
   "metadata": {},
   "outputs": [],
   "source": [
    "%matplotlib inline\n",
    "from compute_moi import *\n",
    "from compute_moi_util import *\n",
    "\n",
    "fig = plt.figure(figsize=(9, 5))\n",
    "extent = 0.7of mana\n",
    "ax = fig.add_subplot(1, 1, 1, projection=\"3d\")\n",
    "ax.set_xlim(-extent, extent)\n",
    "ax.set_ylim(extent, -extent)\n",
    "ax.set_zlim(-extent, extent)\n",
    "ax.set_xlabel('x')\n",
    "ax.set_ylabel('z')\n",
    "ax.set_zlabel('y')\n",
    "ax.set_proj_type('persp')\n",
    "\n",
    "draw_oobbs(ax, oobbs)"
   ]
  },
  {
   "cell_type": "markdown",
   "metadata": {},
   "source": [
    "## Draw Intersections"
   ]
  },
  {
   "cell_type": "code",
   "execution_count": null,
   "metadata": {},
   "outputs": [],
   "source": [
    "%matplotlib inline\n",
    "from compute_moi import *\n",
    "from compute_moi_util import *\n",
    "\n",
    "fig = plt.figure(figsize=(9, 5))\n",
    "extent = 0.7\n",
    "ax = fig.add_subplot(1, 1, 1, projection=\"3d\")\n",
    "ax.set_xlim(-extent, extent)\n",
    "ax.set_ylim(extent, -extent)\n",
    "ax.set_zlim(-extent, extent)\n",
    "ax.set_xlabel('x')\n",
    "ax.set_ylabel('z')\n",
    "ax.set_zlabel('y')\n",
    "ax.set_proj_type('persp')\n",
    "\n",
    "draw_cut_volumes(ax, cut_volumes)"
   ]
  },
  {
   "cell_type": "markdown",
   "metadata": {},
   "source": [
    "## Draw Cut Meshes"
   ]
  },
  {
   "cell_type": "code",
   "execution_count": null,
   "metadata": {},
   "outputs": [],
   "source": [
    "%matplotlib inline\n",
    "from compute_moi import *\n",
    "from compute_moi_util import *\n",
    "\n",
    "fig = plt.figure(figsize=(9, 5))\n",
    "extent = 0.7\n",
    "ax = fig.add_subplot(1, 1, 1, projection=\"3d\")\n",
    "ax.set_xlim(-extent, extent)\n",
    "ax.set_ylim(extent, -extent)\n",
    "ax.set_zlim(-extent, extent)\n",
    "ax.set_xlabel('x')\n",
    "ax.set_ylabel('z')\n",
    "ax.set_zlabel('y')\n",
    "ax.set_proj_type('persp')\n",
    "\n",
    "draw_cut_meshes(ax, cut_meshes)"
   ]
  },
  {
   "cell_type": "markdown",
   "metadata": {},
   "source": [
    "## Draw Contact Surfaces"
   ]
  },
  {
   "cell_type": "code",
   "execution_count": null,
   "metadata": {},
   "outputs": [],
   "source": [
    "%matplotlib inline\n",
    "from compute_moi import *\n",
    "from compute_moi_util import *\n",
    "\n",
    "fig = plt.figure(figsize=(9, 5))\n",
    "extent = 0.7\n",
    "ax = fig.add_subplot(1, 1, 1, projection=\"3d\")\n",
    "ax.set_xlim(-extent, extent)\n",
    "ax.set_ylim(extent, -extent)\n",
    "ax.set_zlim(-extent, extent)\n",
    "ax.set_xlabel('x')\n",
    "ax.set_ylabel('z')\n",
    "ax.set_zlabel('y')\n",
    "ax.set_proj_type('persp')\n",
    "\n",
    "draw_contact_surfaces(ax, contact_surfaces)"
   ]
  }
 ],
 "metadata": {
  "kernelspec": {
   "display_name": "Python 3",
   "language": "python",
   "name": "python3"
  },
  "language_info": {
   "codemirror_mode": {
    "name": "ipython",
    "version": 3
   },
   "file_extension": ".py",
   "mimetype": "text/x-python",
   "name": "python",
   "nbconvert_exporter": "python",
   "pygments_lexer": "ipython3",
   "version": "3.6.5"
  }
 },
 "nbformat": 4,
 "nbformat_minor": 4
}
